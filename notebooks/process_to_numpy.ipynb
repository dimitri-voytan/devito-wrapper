{
 "cells": [
  {
   "cell_type": "code",
   "execution_count": 3,
   "metadata": {},
   "outputs": [],
   "source": [
    "import numpy as np\n",
    "import matplotlib.pyplot as plt\n",
    "\n",
    "shape = (500, 174)\n",
    "vp = np.fromfile('../data/mar_zz_vp.dir', dtype='float32').reshape(shape)\n",
    "vs = np.fromfile('../data/mar_zz_vs.dir', dtype='float32').reshape(shape)\n",
    "rho = np.fromfile('../data/mar_zz_rho.dir', dtype='float32').reshape(shape)"
   ]
  }
 ],
 "metadata": {
  "interpreter": {
   "hash": "db98d94011089533fb32eb83cef9fea6c676bb9d2dc6762a7b796142ee7f4638"
  },
  "kernelspec": {
   "display_name": "Python 3.8.11 ('devito')",
   "language": "python",
   "name": "python3"
  },
  "language_info": {
   "codemirror_mode": {
    "name": "ipython",
    "version": 3
   },
   "file_extension": ".py",
   "mimetype": "text/x-python",
   "name": "python",
   "nbconvert_exporter": "python",
   "pygments_lexer": "ipython3",
   "version": "3.8.11"
  },
  "orig_nbformat": 4
 },
 "nbformat": 4,
 "nbformat_minor": 2
}
